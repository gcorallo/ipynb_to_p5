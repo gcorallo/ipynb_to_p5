{
 "cells": [
  {
   "cell_type": "code",
   "execution_count": 26,
   "metadata": {},
   "outputs": [
    {
     "name": "stdout",
     "output_type": "stream",
     "text": [
      "b'SIZE5288'\n",
      "answer:\n",
      "GOT SIZE\n",
      "ok got size\n",
      "bytes sent??\n"
     ]
    }
   ],
   "source": [
    "#https://stackoverflow.com/questions/42458475/sending-image-over-sockets-only-in-python-image-can-not-be-open/42534868\n",
    "\n",
    "import random\n",
    "import socket, select\n",
    "from time import gmtime, strftime\n",
    "from random import randint\n",
    "import time\n",
    "image = \"img_109.jpg\"\n",
    "\n",
    "HOST = '127.0.0.1'\n",
    "PORT = 6666\n",
    "\n",
    "sock = socket.socket(socket.AF_INET, socket.SOCK_STREAM)\n",
    "server_address = (HOST, PORT)\n",
    "try:\n",
    "    sock.connect(server_address)\n",
    "except:\n",
    "    print(\"can't connect\")\n",
    "try:\n",
    "\n",
    "    # open image\n",
    "    myfile = open(image, 'rb')\n",
    "    bytes = myfile.read()\n",
    "    size = len(bytes)\n",
    "    myfile.close()\n",
    "    \n",
    "    # send image size to server\n",
    "    print((\"SIZE\" + str(size)).encode('utf-8'))\n",
    "    sock.sendall((\"SIZE\" + str(size)).encode('utf-8'))\n",
    "    answer = sock.recv(4096)\n",
    "\n",
    "    #print ('answer'+ answer)\n",
    "    #print ('answer = ' + answer.decode('utf-8'))\n",
    "    print('answer:')\n",
    "    answer = (answer[2:].decode('utf-8'))\n",
    "    print(answer)\n",
    "    \n",
    "    sock.close()\n",
    "    \n",
    "    # send image to server\n",
    "    #answer = 'GOT SIZE'\n",
    "    if answer == 'GOT SIZE':\n",
    "        try:\n",
    "            sock = socket.socket(socket.AF_INET, socket.SOCK_STREAM)\n",
    "            sock.connect(server_address)\n",
    "        except:\n",
    "            print(\"can't connect\")\n",
    "        try:\n",
    "            myfile = open(image, 'rb')\n",
    "            bytes = myfile.read()\n",
    "            size = len(bytes)\n",
    "            print(\"ok got size\")\n",
    "            #sock.sendall(b'othermsg')\n",
    "            time.sleep(1)\n",
    "            sock.sendall(bytes)\n",
    "            print('bytes sent??')    \n",
    "            # check what server send\n",
    "            #answer = sock.recv(4096)\n",
    "            #print ('answer = ' + answer.decode('utf-8'))#.encode('utf-8')\n",
    "\n",
    "            #if answer == 'GOT IMAGE' :\n",
    "            #    sock.sendall(\"BYE BYE \")\n",
    "            #    print ('Image successfully send to server')\n",
    "        finally:\n",
    "            sock.close()\n",
    "    myfile.close()\n",
    " \n",
    "finally:\n",
    "    sock.close()\n",
    "    \n",
    "    "
   ]
  },
  {
   "cell_type": "code",
   "execution_count": 10,
   "metadata": {},
   "outputs": [
    {
     "ename": "AttributeError",
     "evalue": "'str' object has no attribute 'decode'",
     "output_type": "error",
     "traceback": [
      "\u001b[0;31m---------------------------------------------------------------------------\u001b[0m",
      "\u001b[0;31mAttributeError\u001b[0m                            Traceback (most recent call last)",
      "\u001b[0;32m<ipython-input-10-505803ef204f>\u001b[0m in \u001b[0;36m<module>\u001b[0;34m\u001b[0m\n\u001b[0;32m----> 1\u001b[0;31m \u001b[0manswer\u001b[0m\u001b[0;34m.\u001b[0m\u001b[0mdecode\u001b[0m\u001b[0;34m(\u001b[0m\u001b[0;34m)\u001b[0m\u001b[0;34m\u001b[0m\u001b[0;34m\u001b[0m\u001b[0m\n\u001b[0m",
      "\u001b[0;31mAttributeError\u001b[0m: 'str' object has no attribute 'decode'"
     ]
    }
   ],
   "source": [
    "answer.decode()"
   ]
  },
  {
   "cell_type": "code",
   "execution_count": 40,
   "metadata": {},
   "outputs": [
    {
     "data": {
      "text/plain": [
       "b\"b'GOT SIZE'\""
      ]
     },
     "execution_count": 40,
     "metadata": {},
     "output_type": "execute_result"
    }
   ],
   "source": []
  },
  {
   "cell_type": "code",
   "execution_count": 30,
   "metadata": {},
   "outputs": [
    {
     "data": {
      "text/plain": [
       "b'G'"
      ]
     },
     "execution_count": 30,
     "metadata": {},
     "output_type": "execute_result"
    }
   ],
   "source": [
    "answer"
   ]
  },
  {
   "cell_type": "code",
   "execution_count": null,
   "metadata": {},
   "outputs": [],
   "source": []
  }
 ],
 "metadata": {
  "kernelspec": {
   "display_name": "Python 3",
   "language": "python",
   "name": "python3"
  },
  "language_info": {
   "codemirror_mode": {
    "name": "ipython",
    "version": 3
   },
   "file_extension": ".py",
   "mimetype": "text/x-python",
   "name": "python",
   "nbconvert_exporter": "python",
   "pygments_lexer": "ipython3",
   "version": "3.7.3"
  }
 },
 "nbformat": 4,
 "nbformat_minor": 2
}
